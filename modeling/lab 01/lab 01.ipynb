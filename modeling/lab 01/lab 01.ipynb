{
 "cells": [
  {
   "cell_type": "markdown",
   "metadata": {},
   "source": [
    "# Дисциплина \"Моделирование\"\n",
    "## Лабораторная работа № 1\n",
    "## Построение и программная реализация алгоритма полиномиальной интерполяции табличных функций."
   ]
  },
  {
   "cell_type": "markdown",
   "metadata": {},
   "source": [
    "**Цель работы**:\n",
    "\n",
    "Получение навыков построения алгоритма интерполяции таблично\n",
    "заданных функций полиномом Ньютона.  \n",
    "\n",
    "**Входящиен данные**: \n",
    "\n",
    "1. Таблица аргументов и значений функции:\n",
    "\n",
    "x|f(x)\n",
    "-|-\n",
    "0|1\n",
    "0.15|0.838771\n",
    "0.3|0.655336\n",
    "0.45|0.450447\n",
    "0.6|0.225336\n",
    "0.75|-0.01831\n",
    "0.9|-0.27839\n",
    "1.05|-0.55243\n",
    "\n",
    "2. Степень аппроксимирующего полинома - n\n",
    "\n",
    "**Результаты**:\n",
    "\n",
    "1. Значения y(x) при степенях полинома n=0, 1, 2, 3 и 4 при фиксированном x..\n",
    "\n",
    "2. Найти корень заданной выше функции с помощью обратной интерполяции."
   ]
  },
  {
   "cell_type": "code",
   "execution_count": 1,
   "metadata": {},
   "outputs": [
    {
     "name": "stdout",
     "output_type": "stream",
     "text": [
      "[ 0.        0.15      0.3       0.45      0.225336 -0.01831  -0.27839\n",
      " -0.55243 ]\n",
      "     0         1         2         3         4        5        6        7\n",
      "0  0.0  0.150000  0.300000  0.450000  0.225336 -0.01831 -0.27839 -0.55243\n",
      "1  1.0  0.838771  0.655336  0.450447  0.600000  0.75000  0.90000  1.05000\n"
     ]
    },
    {
     "data": {
      "text/plain": [
       "[<matplotlib.lines.Line2D at 0x25b89de51c0>]"
      ]
     },
     "execution_count": 1,
     "metadata": {},
     "output_type": "execute_result"
    },
    {
     "data": {
      "image/png": "[encoded data removed]",
      "text/plain": [
       "<Figure size 864x576 with 1 Axes>"
      ]
     },
     "metadata": {
      "needs_background": "light"
     },
     "output_type": "display_data"
    }
   ],
   "source": [
    "import numpy as np\n",
    "import pandas as pd\n",
    "import matplotlib.pyplot as plt\n",
    "\n",
    "%matplotlib inline\n",
    "\n",
    "x = np.array([0, 0.15, 0.3, 0.45, 0.6, 0.75, 0.9, 1.05])\n",
    "y = np.array([1, 0.838771, 0.655336, 0.450447, 0.225336, -0.01831, -0.27839, -0.55243])\n",
    "\n",
    "array = np.array([x, y])\n",
    "array.sort(axis=0)\n",
    "\n",
    "print(array[0,:])\n",
    "\n",
    "print (pd.DataFrame(array))\n",
    "\n",
    "plt.figure(figsize = (12, 8))\n",
    "plt.plot(x, y, 'bo')"
   ]
  },
  {
   "cell_type": "code",
   "execution_count": 73,
   "metadata": {},
   "outputs": [
    {
     "name": "stdout",
     "output_type": "stream",
     "text": [
      "7\n"
     ]
    }
   ],
   "source": [
    "def binary_search(a, x):\n",
    "    '''\n",
    "    Функция бинарного поиска по массиву\n",
    "    '''\n",
    "    lo = 0\n",
    "    hi = len(a)\n",
    "    while lo < hi:\n",
    "        mid = (lo+hi)//2\n",
    "        if x < a[mid]: hi = mid\n",
    "        else: lo = mid+1\n",
    "    return lo-1 if lo>0 else 0\n",
    "        \n",
    "\n",
    "print(binary_search(x, 12))"
   ]
  },
  {
   "cell_type": "code",
   "execution_count": 3,
   "metadata": {},
   "outputs": [
    {
     "name": "stdout",
     "output_type": "stream",
     "text": [
      "   0   1   2\n",
      "0  1   2   3\n",
      "1  4   5   6\n",
      "2  9  10  11\n",
      "[1 4 9]\n",
      "    0   1   2\n",
      "0  23   2   3\n",
      "1  45   5   6\n",
      "2  56  10  11\n",
      "[23  2  3]\n",
      "    0   1   2\n",
      "0   3   2  23\n",
      "1   6   5  45\n",
      "2  11  10  56\n"
     ]
    }
   ],
   "source": [
    "array2 = np.array([[1,2,3], [4,5,6], [9,10,11]])\n",
    "\n",
    "print (pd.DataFrame(array2))\n",
    "\n",
    "print(array2[:,0])\n",
    "\n",
    "array2[:,0] = [23,45,56]\n",
    "\n",
    "print (pd.DataFrame(array2))\n",
    "\n",
    "print (array2[0,:])\n",
    "\n",
    "print(pd.DataFrame(np.fliplr(array2)))"
   ]
  },
  {
   "cell_type": "code",
   "execution_count": 5,
   "metadata": {},
   "outputs": [
    {
     "data": {
      "text/plain": [
       "array([[23,  2,  3],\n",
       "       [45,  5,  6],\n",
       "       [56, 10, 11]])"
      ]
     },
     "execution_count": 5,
     "metadata": {},
     "output_type": "execute_result"
    }
   ],
   "source": [
    "array2"
   ]
  },
  {
   "cell_type": "code",
   "execution_count": 47,
   "metadata": {},
   "outputs": [
    {
     "name": "stdout",
     "output_type": "stream",
     "text": [
      "    0   1   2\n",
      "0  23   2   3\n",
      "1  45   5   6\n",
      "2  56  10  11\n",
      "================================\n",
      "0    (123, 102, 103)\n",
      "1    (145, 105, 106)\n",
      "2    (156, 110, 111)\n",
      "dtype: object\n",
      "================================\n",
      "0    (123, 102, 103)\n",
      "1    (145, 105, 106)\n",
      "2    (156, 110, 111)\n",
      "dtype: object\n",
      "================================\n",
      "0    (123, 102, 103)\n",
      "1    (145, 105, 106)\n",
      "2    (156, 110, 111)\n",
      "dtype: object\n",
      "================================\n",
      "0    (123, 102, 103)\n",
      "1    (145, 105, 106)\n",
      "2    (156, 110, 111)\n",
      "dtype: object\n"
     ]
    }
   ],
   "source": [
    "pd_arr = pd.DataFrame(array2)\n",
    "def func(x):\n",
    "    return x[0]+100, x[1]+100, x[2]+100\n",
    "\n",
    "def func2(x):\n",
    "    return func(x)\n",
    "\n",
    "print(pd_arr)\n",
    "print(\"=\"*32)\n",
    "print(pd_arr.apply(lambda x: (x[0]+100, x[1]+100, x[2]+100),axis=1))\n",
    "print(\"=\"*32)\n",
    "print(pd_arr.apply(lambda x: func(x),axis=1))\n",
    "print(\"=\"*32)\n",
    "print(pd_arr.apply(func2,axis=1))\n",
    "\n",
    "def func4(func):\n",
    "    def inner_func(x):\n",
    "        return func(x)\n",
    "    return inner_func\n",
    "\n",
    "print(\"=\"*32)\n",
    "print(pd_arr.apply(func4(func),axis=1))\n"
   ]
  }
 ],
 "metadata": {
  "interpreter": {
   "hash": "aef6a1bb34ef91b76da8297407088461fe141b9fc4e433f0b3505b3e65525551"
  },
  "kernelspec": {
   "display_name": "Python 3.9.6 64-bit ('modeling_labs': conda)",
   "language": "python",
   "name": "python3"
  },
  "language_info": {
   "codemirror_mode": {
    "name": "ipython",
    "version": 3
   },
   "file_extension": ".py",
   "mimetype": "text/x-python",
   "name": "python",
   "nbconvert_exporter": "python",
   "pygments_lexer": "ipython3",
   "version": "3.9.6"
  },
  "orig_nbformat": 4
 },
 "nbformat": 4,
 "nbformat_minor": 2
}
