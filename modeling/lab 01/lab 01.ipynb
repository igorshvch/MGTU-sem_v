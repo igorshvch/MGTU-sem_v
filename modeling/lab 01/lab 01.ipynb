{
 "cells": [
  {
   "cell_type": "markdown",
   "metadata": {},
   "source": [
    "# Дисциплина \"Моделирование\"\n",
    "## Лабораторная работа № 1\n",
    "## Построение и программная реализация алгоритма полиномиальной интерполяции табличных функций."
   ]
  },
  {
   "cell_type": "markdown",
   "metadata": {},
   "source": [
    "**Цель работы**:\n",
    "\n",
    "Получение навыков построения алгоритма интерполяции таблично\n",
    "заданных функций полиномом Ньютона.  \n",
    "\n",
    "**Входящиен данные**: \n",
    "\n",
    "1. Таблица аргументов и значений функции:\n",
    "\n",
    "x|f(x)\n",
    "-|-\n",
    "0|1\n",
    "0.15|0.838771\n",
    "0.3|0.655336\n",
    "0.45|0.450447\n",
    "0.6|0.225336\n",
    "0.75|-0.01831\n",
    "0.9|-0.27839\n",
    "1.05|-0.55243\n",
    "\n",
    "2. Степень аппроксимирующего полинома - n\n",
    "\n",
    "**Результаты**:\n",
    "\n",
    "1. Значения y(x) при степенях полинома n=0, 1, 2, 3 и 4 при фиксированном x..\n",
    "\n",
    "2. Найти корень заданной выше функции с помощью обратной интерполяции."
   ]
  },
  {
   "cell_type": "code",
   "execution_count": 76,
   "metadata": {},
   "outputs": [
    {
     "name": "stdout",
     "output_type": "stream",
     "text": [
      "[ 0.        0.15      0.3       0.45      0.225336 -0.01831  -0.27839\n",
      " -0.55243 ]\n",
      "     0         1         2         3         4        5        6        7\n",
      "0  0.0  0.150000  0.300000  0.450000  0.225336 -0.01831 -0.27839 -0.55243\n",
      "1  1.0  0.838771  0.655336  0.450447  0.600000  0.75000  0.90000  1.05000\n"
     ]
    },
    {
     "data": {
      "text/plain": [
       "[<matplotlib.lines.Line2D at 0x21c01450af0>]"
      ]
     },
     "execution_count": 76,
     "metadata": {},
     "output_type": "execute_result"
    },
    {
     "data": {
      "image/png": "[encoded data removed]",
      "text/plain": [
       "<Figure size 864x576 with 1 Axes>"
      ]
     },
     "metadata": {
      "needs_background": "light"
     },
     "output_type": "display_data"
    }
   ],
   "source": [
    "import numpy as np\n",
    "import pandas as pd\n",
    "import matplotlib.pyplot as plt\n",
    "\n",
    "%matplotlib inline\n",
    "\n",
    "x = np.array([0, 0.15, 0.3, 0.45, 0.6, 0.75, 0.9, 1.05])\n",
    "y = np.array([1, 0.838771, 0.655336, 0.450447, 0.225336, -0.01831, -0.27839, -0.55243])\n",
    "\n",
    "array = np.array([x, y])\n",
    "array.sort(axis=0)\n",
    "\n",
    "print(array[0,:])\n",
    "\n",
    "print (pd.DataFrame(array))\n",
    "\n",
    "plt.figure(figsize = (12, 8))\n",
    "plt.plot(x, y, 'bo')"
   ]
  },
  {
   "cell_type": "code",
   "execution_count": 73,
   "metadata": {},
   "outputs": [
    {
     "name": "stdout",
     "output_type": "stream",
     "text": [
      "7\n"
     ]
    }
   ],
   "source": [
    "def binary_search(a, x):\n",
    "    '''\n",
    "    Функция бинарного поиска по массиву\n",
    "    '''\n",
    "    lo = 0\n",
    "    hi = len(a)\n",
    "    while lo < hi:\n",
    "        mid = (lo+hi)//2\n",
    "        if x < a[mid]: hi = mid\n",
    "        else: lo = mid+1\n",
    "    return lo-1 if lo>0 else 0\n",
    "        \n",
    "\n",
    "print(binary_search(x, 12))"
   ]
  },
  {
   "cell_type": "code",
   "execution_count": 88,
   "metadata": {},
   "outputs": [
    {
     "name": "stdout",
     "output_type": "stream",
     "text": [
      "   0  1  2\n",
      "0  1  2  3\n",
      "1  4  5  6\n",
      "[1 4]\n"
     ]
    },
    {
     "ename": "ValueError",
     "evalue": "could not broadcast input array from shape (3,) into shape (2,)",
     "output_type": "error",
     "traceback": [
      "\u001b[1;31m---------------------------------------------------------------------------\u001b[0m",
      "\u001b[1;31mValueError\u001b[0m                                Traceback (most recent call last)",
      "\u001b[1;32m~\\AppData\\Local\\Temp/ipykernel_15900/379134106.py\u001b[0m in \u001b[0;36m<module>\u001b[1;34m\u001b[0m\n\u001b[0;32m      5\u001b[0m \u001b[0mprint\u001b[0m\u001b[1;33m(\u001b[0m\u001b[0marray2\u001b[0m\u001b[1;33m[\u001b[0m\u001b[1;33m:\u001b[0m\u001b[1;33m,\u001b[0m\u001b[1;36m0\u001b[0m\u001b[1;33m]\u001b[0m\u001b[1;33m)\u001b[0m\u001b[1;33m\u001b[0m\u001b[1;33m\u001b[0m\u001b[0m\n\u001b[0;32m      6\u001b[0m \u001b[1;33m\u001b[0m\u001b[0m\n\u001b[1;32m----> 7\u001b[1;33m \u001b[0marray2\u001b[0m\u001b[1;33m[\u001b[0m\u001b[1;33m:\u001b[0m\u001b[1;33m,\u001b[0m\u001b[1;36m0\u001b[0m\u001b[1;33m]\u001b[0m \u001b[1;33m=\u001b[0m \u001b[1;33m[\u001b[0m\u001b[1;36m23\u001b[0m\u001b[1;33m,\u001b[0m\u001b[1;36m45\u001b[0m\u001b[1;33m,\u001b[0m\u001b[1;36m56\u001b[0m\u001b[1;33m]\u001b[0m\u001b[1;33m\u001b[0m\u001b[1;33m\u001b[0m\u001b[0m\n\u001b[0m\u001b[0;32m      8\u001b[0m \u001b[1;33m\u001b[0m\u001b[0m\n\u001b[0;32m      9\u001b[0m \u001b[0mprint\u001b[0m \u001b[1;33m(\u001b[0m\u001b[0mpd\u001b[0m\u001b[1;33m.\u001b[0m\u001b[0mDataFrame\u001b[0m\u001b[1;33m(\u001b[0m\u001b[0marray2\u001b[0m\u001b[1;33m)\u001b[0m\u001b[1;33m)\u001b[0m\u001b[1;33m\u001b[0m\u001b[1;33m\u001b[0m\u001b[0m\n",
      "\u001b[1;31mValueError\u001b[0m: could not broadcast input array from shape (3,) into shape (2,)"
     ]
    }
   ],
   "source": [
    "array2 = np.array([[1,2,3], [4,5,6], [9,10,11]])\n",
    "\n",
    "print (pd.DataFrame(array2))\n",
    "\n",
    "print(array2[:,0])\n",
    "\n",
    "array2[:,0] = [23,45,56]\n",
    "\n",
    "print (pd.DataFrame(array2))\n",
    "\n",
    "print (array2[0,:])\n",
    "\n",
    "print(pd.DataFrame(np.fliplr(array2)))"
   ]
  }
 ],
 "metadata": {
  "interpreter": {
   "hash": "aef6a1bb34ef91b76da8297407088461fe141b9fc4e433f0b3505b3e65525551"
  },
  "kernelspec": {
   "display_name": "Python 3.9.6 64-bit ('modeling_labs': conda)",
   "language": "python",
   "name": "python3"
  },
  "language_info": {
   "codemirror_mode": {
    "name": "ipython",
    "version": 3
   },
   "file_extension": ".py",
   "mimetype": "text/x-python",
   "name": "python",
   "nbconvert_exporter": "python",
   "pygments_lexer": "ipython3",
   "version": "3.9.6"
  },
  "orig_nbformat": 4
 },
 "nbformat": 4,
 "nbformat_minor": 2
}
