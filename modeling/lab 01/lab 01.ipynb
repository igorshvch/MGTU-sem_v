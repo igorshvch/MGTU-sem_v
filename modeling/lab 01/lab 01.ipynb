{
 "cells": [
  {
   "cell_type": "markdown",
   "metadata": {},
   "source": [
    "# Дисциплина \"Моделирование\"\n",
    "## Лабораторная работа № 1\n",
    "## Построение и программная реализация алгоритма полиномиальной интерполяции табличных функций."
   ]
  },
  {
   "cell_type": "markdown",
   "metadata": {},
   "source": [
    "**Цель работы**:\n",
    "\n",
    "Получение навыков построения алгоритма интерполяции таблично\n",
    "заданных функций полиномом Ньютона.  \n",
    "\n",
    "**Входящиен данные**: \n",
    "\n",
    "1. Таблица аргументов и значений функции:\n",
    "\n",
    "x|f(x)\n",
    "-|-\n",
    "0|1\n",
    "0.15|0.838771\n",
    "0.3|0.655336\n",
    "0.45|0.450447\n",
    "0.6|0.225336\n",
    "0.75|-0.01831\n",
    "0.9|-0.27839\n",
    "1.05|-0.55243\n",
    "\n",
    "2. Степень аппроксимирующего полинома - n\n",
    "\n",
    "**Результаты**:\n",
    "\n",
    "1. Значения y(x) при степенях полинома n=0, 1, 2, 3 и 4 при фиксированном x..\n",
    "\n",
    "2. Найти корень заданной выше функции с помощью обратной интерполяции."
   ]
  },
  {
   "cell_type": "code",
   "execution_count": 4,
   "metadata": {},
   "outputs": [
    {
     "name": "stdout",
     "output_type": "stream",
     "text": [
      "     0         1         2         3         4        5        6        7\n",
      "0  0.0  0.150000  0.300000  0.450000  0.600000  0.75000  0.90000  1.05000\n",
      "1  1.0  0.838771  0.655336  0.450447  0.225336 -0.01831 -0.27839 -0.55243\n"
     ]
    }
   ],
   "source": [
    "import numpy as np\n",
    "import pandas as pd\n",
    "\n",
    "\n",
    "array = np.array([[0, 0.15, 0.3, 0.45, 0.6, 0.75, 0.9, 1.05], [1, 0.838771, 0.655336, 0.450447, 0.225336, -0.01831, -0.27839, -0.55243]])\n",
    "\n",
    "print (pd.DataFrame(array))"
   ]
  }
 ],
 "metadata": {
  "interpreter": {
   "hash": "aef6a1bb34ef91b76da8297407088461fe141b9fc4e433f0b3505b3e65525551"
  },
  "kernelspec": {
   "display_name": "Python 3.9.6 64-bit ('modeling_labs': conda)",
   "language": "python",
   "name": "python3"
  },
  "language_info": {
   "codemirror_mode": {
    "name": "ipython",
    "version": 3
   },
   "file_extension": ".py",
   "mimetype": "text/x-python",
   "name": "python",
   "nbconvert_exporter": "python",
   "pygments_lexer": "ipython3",
   "version": "3.9.6"
  },
  "orig_nbformat": 4
 },
 "nbformat": 4,
 "nbformat_minor": 2
}
