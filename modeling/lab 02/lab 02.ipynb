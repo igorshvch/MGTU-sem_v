{
 "cells": [
  {
   "cell_type": "code",
   "execution_count": 11,
   "metadata": {},
   "outputs": [
    {
     "name": "stdout",
     "output_type": "stream",
     "text": [
      "[0.932469514203152, 0.6612135278716548, 0.23861918608319693, -0.23861918608319693, -0.6612135278716548, -0.932469514203152]\n"
     ]
    }
   ],
   "source": [
    "from math import *\n",
    "\n",
    "def machine_epsilon(func=float):\n",
    "    '''\n",
    "    Вспомогательная функция для вычисления машинного нуля\n",
    "    '''\n",
    "    machine_epsilon = func(1)\n",
    "    while func(1)+func(machine_epsilon) != func(1):\n",
    "        machine_epsilon_last = machine_epsilon\n",
    "        machine_epsilon = func(machine_epsilon) / func(2)\n",
    "    return machine_epsilon_last\n",
    "\n",
    "def eval_Lm(x, n):\n",
    "    '''\n",
    "    Вычисление полинома Лежандра n-ой степени\n",
    "    '''\n",
    "    res = None\n",
    "    if n > 1:\n",
    "        Lm0 = 1 #значение полинома 0-й степени\n",
    "        Lm1 = x #значение полинома 1-й степени\n",
    "        lim_n = 2\n",
    "        while True:\n",
    "            res = (\n",
    "                ((2*lim_n-1)*x*Lm1 - (lim_n-1)*Lm0)\n",
    "                /lim_n\n",
    "            )\n",
    "            Lm0 = Lm1\n",
    "            Lm1 = res\n",
    "            if lim_n == n:\n",
    "                break\n",
    "            lim_n += 1\n",
    "        return res\n",
    "    else:\n",
    "        return 1 if pow == 0 else x\n",
    "\n",
    "def eval_Lm_derivative(x, n):\n",
    "    '''\n",
    "    Вычисление производной полинома Лежандра\n",
    "    '''\n",
    "    L_first = eval_Lm(x, n-1)\n",
    "    L_second = eval_Lm(x, n)\n",
    "    return (n/(1-x**2))*(L_first - x*L_second)\n",
    "\n",
    "def eval_Lm_roots(n):\n",
    "    '''\n",
    "    Вычисление заданного количества корней полинома Лежандра\n",
    "    '''\n",
    "    ME = machine_epsilon()*10\n",
    "    roots_res = []\n",
    "    roots_init_approx = [\n",
    "        cos(\n",
    "            (pi*(4*i-1)) / (4*n+2)\n",
    "        )\n",
    "        for i in range(1, n+1)\n",
    "    ]\n",
    "    for x in roots_init_approx:\n",
    "        Lm = 1\n",
    "        while Lm > ME:\n",
    "            Lm = eval_Lm(x, n)\n",
    "            Lm_deriv = eval_Lm_derivative(x, n)\n",
    "            x = x - Lm/Lm_deriv\n",
    "        roots_res.append(x)\n",
    "    return roots_res\n",
    "\n",
    "print(eval_Lm_roots(6))"
   ]
  },
  {
   "cell_type": "code",
   "execution_count": 10,
   "metadata": {},
   "outputs": [
    {
     "name": "stdout",
     "output_type": "stream",
     "text": [
      "[[1.0, 1.0, 1.0, 2.0], [0.7745966692414834, 0.0, -0.7746958686679296, 0], [0.6000000000000001, 0.0, 0.6001536889311581, 0.6666666666666666]]\n",
      "[0.5555199839697369, 0.8890311661223147, 0.5554488499079484]\n",
      "333.3333333333336\n",
      "333.3333333333333\n"
     ]
    }
   ],
   "source": [
    "def eval_At_sum(k):\n",
    "    '''\n",
    "    Вычисление суммы произведений Ai*ti\n",
    "    '''\n",
    "    return 2/(k+1) if k%2==0 else 0\n",
    "\n",
    "def build_At_matrix_with_coef_sum(n, Lm_roots):\n",
    "    '''\n",
    "    Строим СЛАУ\n",
    "    '''\n",
    "    M = []\n",
    "    for k in range(n):\n",
    "        row = []\n",
    "        for ti in Lm_roots:\n",
    "            row.append(ti**k)\n",
    "        row.append(eval_At_sum(k))\n",
    "        M.append(row)\n",
    "    return M\n",
    "\n",
    "def eval_Ai_coefs(M):\n",
    "    '''\n",
    "    Решаем СЛАУ, находим коэффициенты Ai\n",
    "    '''\n",
    "    n = len(M)\n",
    "    X = [0 for i in range(n)]\n",
    "    for i in range(n):\n",
    "        for j in range(i+1, n):\n",
    "            ratio = M[j][i]/M[i][i]\n",
    "            for k in range(n+1):\n",
    "                M[j][k] = M[j][k] - ratio*M[i][k]\n",
    "    X[n-1] = M[n-1][n]/M[n-1][n-1]\n",
    "    for i in range(n-2, -1, -1):\n",
    "        X[i] = M[i][n]\n",
    "        for j in range(i+1, n):\n",
    "            X[i] = X[i] - M[i][j]*X[j]\n",
    "        X[i] = X[i]/M[i][i]\n",
    "    return X\n",
    "\n",
    "def eval_Gauss_integration(func, a, b, N_nodes, yi):\n",
    "    '''\n",
    "    Проводим численное интегрирование по формуле Гаусса\n",
    "    '''\n",
    "    T = eval_Lm_roots(N_nodes)\n",
    "    A = eval_Ai_coefs(build_At_matrix_with_coef_sum(N_nodes, T))\n",
    "    hy = (b-a)/N_nodes\n",
    "    sum_Aiti = sum([Ai*func((a+b)/2+((b-a)/2)*ti, a+yi*hy) for (Ai, ti) in zip(A, T)])\n",
    "    res = ((b-a)/2)*sum_Aiti\n",
    "    return res\n",
    "    \n",
    "print(build_At_matrix_with_coef_sum(3, eval_Lm_roots(3)))\n",
    "print(eval_Ai_coefs(build_At_matrix_with_coef_sum(3, eval_Lm_roots(3))))\n",
    "print(eval_Gauss_integration(lambda x, y: x**2, 0, 10, 10, 0))\n",
    "print(1000/3)"
   ]
  },
  {
   "cell_type": "code",
   "execution_count": 37,
   "metadata": {},
   "outputs": [
    {
     "name": "stdout",
     "output_type": "stream",
     "text": [
      "0.3333333365219432\n"
     ]
    }
   ],
   "source": [
    "def eval_Simpson_multiple_integration(func, a, b, c, d, M_nodes, N_nodes):\n",
    "    '''\n",
    "    Вычисление кратного интеграла по формуле Симпсона\n",
    "    '''\n",
    "    res = 0\n",
    "    for i in range(0, int((M_nodes/2)-1)):\n",
    "        res = (\n",
    "            eval_Gauss_integration(func, c,d, N_nodes, 2*i)\n",
    "            + 4*eval_Gauss_integration(func, c,d, N_nodes, 2*i+1)\n",
    "            + eval_Gauss_integration(func, c,d, N_nodes, 2*i+2)\n",
    "        )\n",
    "    hx = (b-a)/M_nodes\n",
    "    return 4/pi*hx/3*res\n",
    "\n",
    "def eval_func(t):\n",
    "    '''\n",
    "    Интегрируемая функция\n",
    "    '''\n",
    "    def inner_func_LR(theta, phi):\n",
    "        return (2*cos(theta)) / ((1-(sin(theta)**2))*(cos(phi)**2))\n",
    "    def inner_func_main(t, LR_func, theta, phi):\n",
    "        return (1-exp((-t)*LR_func(theta, phi))) * cos(theta)*sin(theta)\n",
    "    return lambda theta, phi: inner_func_main(t, inner_func_LR, theta, phi)\n",
    "\n",
    "def integrate(t, M, N):\n",
    "    ef = eval_func(t)\n",
    "    return eval_Simpson_multiple_integration(\n",
    "        ef,\n",
    "        0, pi/2,\n",
    "        0, pi/2,\n",
    "        M, N\n",
    "    )\n",
    "\n",
    "print(integrate(10, 6, 6))"
   ]
  },
  {
   "cell_type": "code",
   "execution_count": 6,
   "metadata": {},
   "outputs": [
    {
     "data": {
      "text/plain": [
       "array([0.55551998, 0.88903117, 0.55544885])"
      ]
     },
     "execution_count": 6,
     "metadata": {},
     "output_type": "execute_result"
    }
   ],
   "source": [
    "import numpy as np\n",
    "\n",
    "A = np.array([[1,1,1],[0.7745966692414834, 0.0, -0.7746958686679296],[0.6000000000000001, 0.0, 0.6001536889311581]])\n",
    "B = np.array([2, 0, 2/3])\n",
    "np.linalg.solve(A,B)"
   ]
  },
  {
   "cell_type": "code",
   "execution_count": null,
   "metadata": {},
   "outputs": [],
   "source": [
    "def bisect_method(func, a, b):\n",
    "    '''\n",
    "    Реализация метода половинного деления\n",
    "    '''\n",
    "    x = (a+b)/2\n",
    "    ME = machine_epsilon() * 10\n",
    "    while ((b-a)/2) < ME and func(x) != 0:\n",
    "        if func(a)*func(x) < 0:\n",
    "            b = x\n",
    "        else:\n",
    "            a = x\n",
    "        x = (a+b)/2\n",
    "    return x\n",
    "    \n",
    "def Lm_roots(start_nodes):\n",
    "    N_nodes = start_nodes\n",
    "    segment_store = []\n",
    "    counter = 0\n",
    "    while len(segment_store) <= start_nodes:\n",
    "        N_nodes += 1\n",
    "        delta = 1/N_nodes\n",
    "        a = -1\n",
    "        b = a+delta\n",
    "        segment_store = []\n",
    "        while b <= 1:\n",
    "            if eval_Lm(a, N_nodes)*eval_Lm(b, N_nodes) < 0:\n",
    "                segment_store.append((a,b))\n",
    "            a = b\n",
    "            b += delta\n",
    "            if a<1 and b>1:\n",
    "                b = 1\n",
    "        counter += 1\n",
    "        print(start_nodes, N_nodes, delta, len(segment_store))\n",
    "        if counter == 20:\n",
    "            pass\n",
    "            #break\n",
    "    return (segment_store)\n",
    "\n",
    "res = Lm_roots(30)\n",
    "print(len(res))\n",
    "print(res)"
   ]
  }
 ],
 "metadata": {
  "interpreter": {
   "hash": "aef6a1bb34ef91b76da8297407088461fe141b9fc4e433f0b3505b3e65525551"
  },
  "kernelspec": {
   "display_name": "Python 3.9.6 64-bit ('modeling_labs': conda)",
   "language": "python",
   "name": "python3"
  },
  "language_info": {
   "codemirror_mode": {
    "name": "ipython",
    "version": 3
   },
   "file_extension": ".py",
   "mimetype": "text/x-python",
   "name": "python",
   "nbconvert_exporter": "python",
   "pygments_lexer": "ipython3",
   "version": "3.9.6"
  },
  "orig_nbformat": 4
 },
 "nbformat": 4,
 "nbformat_minor": 2
}
