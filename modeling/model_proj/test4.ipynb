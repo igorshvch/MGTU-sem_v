{
 "cells": [
  {
   "cell_type": "code",
   "execution_count": 1,
   "metadata": {},
   "outputs": [],
   "source": [
    "import numpy as np\n",
    "import matplotlib.pyplot as plt"
   ]
  },
  {
   "cell_type": "code",
   "execution_count": 5,
   "metadata": {},
   "outputs": [],
   "source": [
    "F = 353 #температура входящего потока в Кельвинах (80 градусов Цельсия)\n",
    "\n",
    "def k(T):\n",
    "    k0 = 1*10**(-2)\n",
    "    Q = 300\n",
    "    return k0*((T/Q)**2)"
   ]
  },
  {
   "cell_type": "code",
   "execution_count": 10,
   "metadata": {},
   "outputs": [
    {
     "data": {
      "text/plain": [
       "0.00017777777777777779"
      ]
     },
     "execution_count": 10,
     "metadata": {},
     "output_type": "execute_result"
    }
   ],
   "source": [
    "alpha = 0.06\n",
    "beta = 0.02\n",
    "\n",
    "T_0 = 20\n",
    "\n"
   ]
  }
 ],
 "metadata": {
  "interpreter": {
   "hash": "ae9d528fd0cdc3becd4551cb2ab06202aa3eaea6076543f00d0533ccd55429cd"
  },
  "kernelspec": {
   "display_name": "Python 3.9.6 ('modeling_labs')",
   "language": "python",
   "name": "python3"
  },
  "language_info": {
   "codemirror_mode": {
    "name": "ipython",
    "version": 3
   },
   "file_extension": ".py",
   "mimetype": "text/x-python",
   "name": "python",
   "nbconvert_exporter": "python",
   "pygments_lexer": "ipython3",
   "version": "3.9.6"
  },
  "orig_nbformat": 4
 },
 "nbformat": 4,
 "nbformat_minor": 2
}
