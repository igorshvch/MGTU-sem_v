{
 "cells": [
  {
   "cell_type": "code",
   "execution_count": 1,
   "metadata": {},
   "outputs": [],
   "source": [
    "import numpy as np\n",
    "import matplotlib.pyplot as plt"
   ]
  },
  {
   "cell_type": "code",
   "execution_count": 2,
   "metadata": {},
   "outputs": [],
   "source": [
    "np.random.seed(42)"
   ]
  },
  {
   "cell_type": "code",
   "execution_count": 3,
   "metadata": {},
   "outputs": [],
   "source": [
    "def equation_1_1(x):\n",
    "    \"\"\"f(x) = sin(x)\"\"\"\n",
    "    return np.sin(x)\n",
    "\n",
    "\n",
    "def equation_1_2(x):\n",
    "    \"\"\"f(x) = 3 + 2x - 3x² + 2x³\"\"\"\n",
    "    return 3 + 2 * x - 3 * x ** 2 + 2 * x ** 3\n",
    "\n",
    "\n",
    "def equation_1_3(x):\n",
    "    \"\"\"f(x) = 1 / (3cos(x) + 2)\"\"\"\n",
    "    return 1 / (3 * np.cos(x) + 2)\n",
    "\n",
    "\n",
    "def equation_1_4(x):\n",
    "    \"\"\"f(x) = x * e^(-x)\"\"\"\n",
    "    return x * np.e ** -x\n",
    "\n",
    "\n",
    "def equation_2_1(x, y):\n",
    "    \"\"\"f(x, y) = 4 + 2y + 2x + xy + x³y\"\"\"\n",
    "    return 4 + 2 * y + 2 * x + x * y + x ** 3 * y\n",
    "\n",
    "\n",
    "def equation_2_2(xa, ya, a, b, c, d):\n",
    "    x = (b - a) * xa + a\n",
    "    y = (d - c) * ya + c\n",
    "    return 4 + 2 * y + 2 * x + x * y + x ** 3 * y\n",
    "\n",
    "\n",
    "def equation_2_3(x, y):\n",
    "    \"\"\"f(x, y) = y²/x²\"\"\"\n",
    "    return y ** 2 / x ** 2\n",
    "\n",
    "\n",
    "def equation_2_4(xa, ya, a, b, c, d):\n",
    "    x = (b - a) * xa + a\n",
    "    y = (d - c) * ya + c\n",
    "    return y ** 2 / x ** 2\n",
    "\n",
    "\n",
    "def equation_2_5(x, y):\n",
    "    \"\"\"f(x, y) = sqrt(x * x + y * y) + 3 * cos(sqrt(x * x + y * y)) + 5\"\"\"\n",
    "    return np.sqrt(x * x + y * y) + 3 * np.cos(np.sqrt(x * x + y * y)) + 5\n",
    "\n",
    "\n",
    "def equation_2_6(xa, ya, a, b, c, d):\n",
    "    x = (b - a) * xa + a\n",
    "    y = (d - c) * ya + c\n",
    "    return np.sqrt(x * x + y * y) + 3 * np.cos(np.sqrt(x * x + y * y)) + 5"
   ]
  },
  {
   "cell_type": "code",
   "execution_count": 4,
   "metadata": {},
   "outputs": [],
   "source": [
    "def estimate_ab(a, b, eps):\n",
    "    if abs(a % np.pi) < eps:\n",
    "        a = int(a / np.pi) * np.pi\n",
    "    elif abs(a % np.e) < eps:\n",
    "        a = int(a / np.e) * np.e\n",
    "    if abs(b % np.pi) < eps:\n",
    "        b = int(b / np.pi) * np.pi\n",
    "    elif abs(b % np.e) < eps:\n",
    "        b = int(b / np.e) * np.e\n",
    "    return a, b\n",
    "\n",
    "def generate_random(a, b, num_samples):\n",
    "    return np.random.uniform(a, b, num_samples)\n",
    "\n",
    "\n",
    "def calculate_average(list_random_nums, num_samples, func):\n",
    "    sum_ = 0\n",
    "    for i in range(0, num_samples):\n",
    "        sum_ += func(list_random_nums[i])\n",
    "\n",
    "    return sum_ / num_samples\n",
    "\n",
    "\n",
    "def calculate(a, b, num_samples, func):\n",
    "    list_random_uniform_nums = generate_random(a, b, num_samples)\n",
    "    average = calculate_average(list_random_uniform_nums, num_samples, func)\n",
    "    integral = (b - a) * average\n",
    "\n",
    "    return integral"
   ]
  },
  {
   "cell_type": "code",
   "execution_count": 5,
   "metadata": {},
   "outputs": [],
   "source": [
    "def calculate_integral(a, b, num_samples, num_iter, func):\n",
    "    \"\"\"Калькуляция однократного интеграла\"\"\"\n",
    "    avg_sum = 0\n",
    "    areas = []\n",
    "    for i in range(0, num_iter):\n",
    "        integral = calculate(a, b, num_samples, func)\n",
    "        avg_sum += integral\n",
    "        areas.append(integral)\n",
    "    avg_integral = avg_sum / num_iter\n",
    "\n",
    "    return areas, avg_integral"
   ]
  },
  {
   "cell_type": "code",
   "execution_count": 6,
   "metadata": {},
   "outputs": [],
   "source": [
    "def estimate_error(func_2, a, b, c, d, num_iter):\n",
    "    fxy = 0\n",
    "    for i in range(num_iter):\n",
    "        x = np.random.rand()\n",
    "        y = np.random.rand()\n",
    "        fxy += func_2(x, y, a, b, c, d)\n",
    "    return fxy\n",
    "\n",
    "def calculate_integral_double(func_2, a, b, c, d, n):\n",
    "    \"\"\"Калькуляция двойного интеграла\"\"\"\n",
    "    fxy = (estimate_error(func_2, a, b, c, d, n))\n",
    "\n",
    "    res = ((b - a) * (d - c) / n) * fxy\n",
    "    return res"
   ]
  },
  {
   "cell_type": "code",
   "execution_count": null,
   "metadata": {},
   "outputs": [],
   "source": [
    "options = {\n",
    "    'x1': equation_1_1,\n",
    "    'x2': equation_1_2,\n",
    "    'x3': equation_1_3,\n",
    "    'x4': equation_1_4,\n",
    "    'xy1': equation_2_1,\n",
    "    'xy2': equation_2_2,\n",
    "    'xy3': equation_2_3,\n",
    "    'xy4': equation_2_4,\n",
    "    'xy5': equation_2_5,\n",
    "    'xy6': equation_2_6\n",
    "}\n",
    "\n",
    "a = 0.\n",
    "b = 1.\n",
    "c = 1.\n",
    "d = 3.\n",
    "\n",
    "eps = 0.00000000001\n",
    "\n",
    "n_dots = np.random.randint(1, 100001)\n",
    "\n",
    "n_iter = np.random.randint(1, n_dots)\n"
   ]
  }
 ],
 "metadata": {
  "interpreter": {
   "hash": "ae9d528fd0cdc3becd4551cb2ab06202aa3eaea6076543f00d0533ccd55429cd"
  },
  "kernelspec": {
   "display_name": "Python 3.9.6 ('modeling_labs')",
   "language": "python",
   "name": "python3"
  },
  "language_info": {
   "codemirror_mode": {
    "name": "ipython",
    "version": 3
   },
   "file_extension": ".py",
   "mimetype": "text/x-python",
   "name": "python",
   "nbconvert_exporter": "python",
   "pygments_lexer": "ipython3",
   "version": "3.9.6"
  },
  "orig_nbformat": 4
 },
 "nbformat": 4,
 "nbformat_minor": 2
}
