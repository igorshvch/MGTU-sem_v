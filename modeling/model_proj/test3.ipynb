{
 "cells": [
  {
   "cell_type": "code",
   "execution_count": 33,
   "metadata": {},
   "outputs": [],
   "source": [
    "import numpy as np\n",
    "import matplotlib.pyplot as plt"
   ]
  },
  {
   "cell_type": "code",
   "execution_count": 23,
   "metadata": {},
   "outputs": [
    {
     "data": {
      "image/png": "[encoded data removed]",
      "text/plain": [
       "<Figure size 432x288 with 1 Axes>"
      ]
     },
     "metadata": {
      "needs_background": "light"
     },
     "output_type": "display_data"
    }
   ],
   "source": [
    "x = np.arange(0, 10.01, 0.01)\n",
    "plt.plot(x, 357**np.exp((-1)*(x-5)**2))\n",
    "plt.show()"
   ]
  },
  {
   "cell_type": "code",
   "execution_count": null,
   "metadata": {},
   "outputs": [],
   "source": [
    "xMin = 0\n",
    "xMax = 0.12\n",
    "yMin = 0\n",
    "yMax = 0.1\n",
    "\n",
    "#Графит\n",
    "rho = 2100 #kg/m^3 - плотность\n",
    "cp = 715 #J/(kg*K)  - удельная теплоемкость от 0 до 100 градусов\n",
    "Lambda = 148 #W/(m*K) - коэффициент теплопроводности"
   ]
  },
  {
   "cell_type": "code",
   "execution_count": 27,
   "metadata": {},
   "outputs": [
    {
     "name": "stdout",
     "output_type": "stream",
     "text": [
      "[[1. 1. 1. ... 1. 1. 1.]\n",
      " [1. 1. 1. ... 1. 1. 1.]\n",
      " [1. 1. 1. ... 1. 1. 1.]\n",
      " ...\n",
      " [1. 1. 1. ... 1. 1. 1.]\n",
      " [1. 1. 1. ... 1. 1. 1.]\n",
      " [1. 1. 1. ... 1. 1. 1.]]\n"
     ]
    }
   ],
   "source": [
    "numX = 51\n",
    "numY = 51\n",
    "\n",
    "T_t0 = np.ones((numX, numY))\n",
    "print(T_t0)"
   ]
  },
  {
   "cell_type": "code",
   "execution_count": 28,
   "metadata": {},
   "outputs": [
    {
     "name": "stdout",
     "output_type": "stream",
     "text": [
      "[[60. 60. 60. ... 60. 60. 60.]\n",
      " [60. 60. 60. ... 60. 60. 60.]\n",
      " [60. 60. 60. ... 60. 60. 60.]\n",
      " ...\n",
      " [60. 60. 60. ... 60. 60. 60.]\n",
      " [60. 60. 60. ... 60. 60. 60.]\n",
      " [60. 60. 60. ... 60. 60. 60.]]\n"
     ]
    }
   ],
   "source": [
    "T0 = 60 # C\n",
    "\n",
    "T_A = 20\n",
    "\n",
    "T_t0 = T_t0*T0\n",
    "print(T_t0)"
   ]
  },
  {
   "cell_type": "code",
   "execution_count": 31,
   "metadata": {},
   "outputs": [
    {
     "name": "stdout",
     "output_type": "stream",
     "text": [
      "[[20. 20. 20. ... 20. 20. 20.]\n",
      " [20. 60. 60. ... 60. 60. 20.]\n",
      " [20. 60. 60. ... 60. 60. 20.]\n",
      " ...\n",
      " [20. 60. 60. ... 60. 60. 20.]\n",
      " [20. 60. 60. ... 60. 60. 20.]\n",
      " [60. 60. 60. ... 60. 60. 60.]]\n"
     ]
    }
   ],
   "source": [
    "T_t0[:,0]=T_A\n",
    "T_t0[:,-1]=T_A\n",
    "T_t0[0,:]=T_A\n",
    "T_t0[-1,:]=T0\n",
    "\n",
    "T_n = T_t0.copy()\n",
    "T_n1 = T_t0.copy()\n",
    "print(T_t0)\n",
    "\n"
   ]
  },
  {
   "cell_type": "code",
   "execution_count": 38,
   "metadata": {},
   "outputs": [
    {
     "data": {
      "text/plain": [
       "<matplotlib.colorbar.Colorbar at 0x23c3a48b8e0>"
      ]
     },
     "execution_count": 38,
     "metadata": {},
     "output_type": "execute_result"
    },
    {
     "data": {
      "image/png": "[encoded data removed]",
      "text/plain": [
       "<Figure size 432x288 with 2 Axes>"
      ]
     },
     "metadata": {
      "needs_background": "light"
     },
     "output_type": "display_data"
    }
   ],
   "source": [
    "fig, axs = plt.subplots()\n",
    "axs.set_title(\"Start Values\")\n",
    "\n",
    "c=axs.pcolormesh(T_t0, cmap='coolwarm', vmin=60, vmax=20)\n",
    "fig.colorbar(c,ax=axs)"
   ]
  },
  {
   "cell_type": "code",
   "execution_count": null,
   "metadata": {},
   "outputs": [],
   "source": [
    "dt = 0.01\n",
    "t0 = 0\n",
    "t_end = 2\n",
    "dx = (xMax-xMin)/(numX-1)\n",
    "dy = (yMax-yMin)/(numY-1)\n",
    "\n",
    "a = Lambda/(rho*cp)\n",
    "num_Timesteps = (t_end - t0)/dt"
   ]
  }
 ],
 "metadata": {
  "interpreter": {
   "hash": "ae9d528fd0cdc3becd4551cb2ab06202aa3eaea6076543f00d0533ccd55429cd"
  },
  "kernelspec": {
   "display_name": "Python 3.9.6 ('modeling_labs')",
   "language": "python",
   "name": "python3"
  },
  "language_info": {
   "codemirror_mode": {
    "name": "ipython",
    "version": 3
   },
   "file_extension": ".py",
   "mimetype": "text/x-python",
   "name": "python",
   "nbconvert_exporter": "python",
   "pygments_lexer": "ipython3",
   "version": "3.9.6"
  },
  "orig_nbformat": 4
 },
 "nbformat": 4,
 "nbformat_minor": 2
}
