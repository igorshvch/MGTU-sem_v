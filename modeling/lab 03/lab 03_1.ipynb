{
 "cells": [
  {
   "cell_type": "code",
   "execution_count": 6,
   "metadata": {},
   "outputs": [],
   "source": [
    "from math import *\n",
    "\n",
    "X = [1, 2, 3, 4, 5, 6]\n",
    "Y = [0.571, 0.889, 1.091, 1.231, 1.333, 1.412]"
   ]
  },
  {
   "cell_type": "code",
   "execution_count": 15,
   "metadata": {},
   "outputs": [
    {
     "name": "stdout",
     "output_type": "stream",
     "text": [
      "x=1 y=0.571 | 0.318, 0.376, 0.376, 0.408, -0.116\n",
      "x=2 y=0.889 | 0.202, 0.260, 0.233, 0.247, -0.116\n",
      "x=3 y=1.091 | 0.140, 0.171, 0.159, 0.165, -0.062\n",
      "x=4 y=1.231 | 0.140, 0.121, 0.109, 0.165, -0.038\n",
      "x=5 y=1.333 | 0.102, 0.090, 0.083, 0.118, -0.023\n",
      "x=6 y=1.412 | 0.079, 0.068, 0.068, 0.089, -0.023\n"
     ]
    }
   ],
   "source": [
    "def first_order_dif_formulas(list_y, node, step):\n",
    "    '''\n",
    "    Вычисляем производную с помощью формул односторонних разностей\n",
    "    первого порядка точности\n",
    "    '''\n",
    "    if node < len(list_y) / 2:\n",
    "        return (list_y[node+1]-list_y[node])/step\n",
    "    else:\n",
    "        return (list_y[node]-list_y[node-1])/step\n",
    "\n",
    "def second_order_dif_formulas(list_y, node, step):\n",
    "    '''\n",
    "    Вычисляем производную с помощью центральной разностной\n",
    "    формулы второго порядка точности, в первом и поселднем узлах\n",
    "    используем специальные формулы для вычисляения\n",
    "    '''\n",
    "    if node == 0:\n",
    "        return ((-3)*list_y[node]+4*list_y[node+1]-list_y[node+2])/(step*2)\n",
    "    elif node == len(list_y)-1:\n",
    "        return (3*list_y[node]-4*list_y[node-1]+list_y[node-2])/(step*2)\n",
    "    else:\n",
    "        return (list_y[node+1]-list_y[node-1])/(step*2)\n",
    "\n",
    "def Runge_second_order_formulas(list_y, node, step):\n",
    "    '''\n",
    "    Вычисляем производную по формулам, полученным из второй\n",
    "    формулы Рунге путем подстановки в нее односторонних разностныых\n",
    "    формул\n",
    "    '''\n",
    "    if node < len(list_y) / 2:\n",
    "        return ((-3)*list_y[node]+4*list_y[node+1]-list_y[node+2])/(step*2)\n",
    "    else:\n",
    "        return (3*list_y[node]-4*list_y[node-1]+list_y[node-2])/(step*2)\n",
    "\n",
    "def extra_vars(list_y, list_x, node):\n",
    "    '''\n",
    "    Вычисляем производную с помощью выравнивающих переменных\n",
    "    '''\n",
    "    if node < len(list_y) / 2:\n",
    "        return (\n",
    "            (list_y[node]/list_x[node])\n",
    "            *(list_x[node+1]/list_y[node+1])\n",
    "            *((list_y[node]-list_y[node+1])/(list_x[node]-list_x[node+1]))\n",
    "        )\n",
    "    else:\n",
    "        return (\n",
    "            (list_x[node]/list_y[node])\n",
    "            *(list_y[node-1]/list_x[node-1])\n",
    "            *((list_y[node-1]-list_y[node])/(list_x[node-1]-list_x[node]))\n",
    "        )\n",
    "\n",
    "def second_order_second_dif_formulas(list_y, node, step):\n",
    "    '''\n",
    "    Вычисляем вторую производную по формулам второго\n",
    "    порядка точности\n",
    "    '''\n",
    "    if node == 0:\n",
    "        return (list_y[node+2]-2*list_y[node+1]+list_y[node])/pow(step,2)\n",
    "    elif node == len(list_y)-1:\n",
    "        return (list_y[node]-2*list_y[node-1]+list_y[node-2])/pow(step,2)\n",
    "    else:\n",
    "        return (list_y[node+1]-2*list_y[node]+list_y[node-1])/pow(step,2)\n",
    "\n",
    "step=1\n",
    "for i in range(len(Y)):\n",
    "    a = first_order_dif_formulas(Y, i, step)\n",
    "    b = second_order_dif_formulas(Y, i, step)\n",
    "    c = Runge_second_order_formulas(Y, i, step)\n",
    "    d = extra_vars(Y, X, i)\n",
    "    e = second_order_second_dif_formulas(Y, i, step)\n",
    "    print(\"x={:1d} y={:1.3f} | {:1.3f}, {:1.3f}, {:1.3f}, {:1.3f}, {:1.3f}\".format(X[i], Y[i], a, b, c, d, e))"
   ]
  }
 ],
 "metadata": {
  "interpreter": {
   "hash": "aef6a1bb34ef91b76da8297407088461fe141b9fc4e433f0b3505b3e65525551"
  },
  "kernelspec": {
   "display_name": "Python 3.9.6 64-bit ('modeling_labs': conda)",
   "language": "python",
   "name": "python3"
  },
  "language_info": {
   "codemirror_mode": {
    "name": "ipython",
    "version": 3
   },
   "file_extension": ".py",
   "mimetype": "text/x-python",
   "name": "python",
   "nbconvert_exporter": "python",
   "pygments_lexer": "ipython3",
   "version": "3.9.6"
  },
  "orig_nbformat": 4
 },
 "nbformat": 4,
 "nbformat_minor": 2
}
